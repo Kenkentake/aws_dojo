{
 "cells": [
  {
   "cell_type": "code",
   "execution_count": 1,
   "metadata": {},
   "outputs": [
    {
     "name": "stdout",
     "output_type": "stream",
     "text": [
      "Is CUDA ready? True\n"
     ]
    }
   ],
   "source": [
    "import torch\n",
    "print(\"Is CUDA ready?\", torch.cuda.is_available())"
   ]
  },
  {
   "cell_type": "code",
   "execution_count": 2,
   "metadata": {},
   "outputs": [
    {
     "name": "stdout",
     "output_type": "stream",
     "text": [
      "tensor([[0.7904, 0.1675, 0.6956],\n",
      "        [0.7281, 0.7549, 0.4142],\n",
      "        [0.4726, 0.9574, 0.9635]])\n"
     ]
    }
   ],
   "source": [
    "x = torch.rand(3, 3)\n",
    "print(x)"
   ]
  },
  {
   "cell_type": "code",
   "execution_count": 4,
   "metadata": {},
   "outputs": [],
   "source": [
    "y = torch.ones_like(x, device=\"cuda\")\n",
    "x = x.to(\"cuda\")"
   ]
  },
  {
   "cell_type": "code",
   "execution_count": 6,
   "metadata": {},
   "outputs": [
    {
     "name": "stdout",
     "output_type": "stream",
     "text": [
      "tensor([[1.7904, 1.1675, 1.6956],\n",
      "        [1.7281, 1.7549, 1.4142],\n",
      "        [1.4726, 1.9574, 1.9635]], device='cuda:0')\n"
     ]
    }
   ],
   "source": [
    "z = x + y\n",
    "print(z)"
   ]
  },
  {
   "cell_type": "code",
   "execution_count": 7,
   "metadata": {},
   "outputs": [
    {
     "name": "stdout",
     "output_type": "stream",
     "text": [
      "tensor([[1.7904, 1.1675, 1.6956],\n",
      "        [1.7281, 1.7549, 1.4142],\n",
      "        [1.4726, 1.9574, 1.9635]])\n"
     ]
    }
   ],
   "source": [
    "z = z.to(\"cpu\")\n",
    "print(z)"
   ]
  },
  {
   "cell_type": "code",
   "execution_count": 8,
   "metadata": {},
   "outputs": [
    {
     "name": "stdout",
     "output_type": "stream",
     "text": [
      "CPU times: user 14.1 s, sys: 188 ms, total: 14.3 s\n",
      "Wall time: 7.53 s\n"
     ]
    }
   ],
   "source": [
    "s = 10000\n",
    "device = \"cpu\"\n",
    "x = torch.rand(s, s, device=device, dtype=torch.float32)\n",
    "y = torch.rand(s, s, device=device, dtype=torch.float32)\n",
    "\n",
    "%time z = torch.matmul(x, y)"
   ]
  },
  {
   "cell_type": "code",
   "execution_count": 10,
   "metadata": {},
   "outputs": [
    {
     "name": "stdout",
     "output_type": "stream",
     "text": [
      "CPU times: user 374 ms, sys: 204 ms, total: 577 ms\n",
      "Wall time: 576 ms\n"
     ]
    }
   ],
   "source": [
    "s = 10000\n",
    "device = \"cuda\"\n",
    "x = torch.rand(s, s, device=device, dtype=torch.float32)\n",
    "y = torch.rand(s, s, device=device, dtype=torch.float32)\n",
    "\n",
    "%time z = torch.matmul(x, y); torch.cuda.synchronize()"
   ]
  },
  {
   "cell_type": "code",
   "execution_count": null,
   "metadata": {},
   "outputs": [],
   "source": []
  }
 ],
 "metadata": {
  "kernelspec": {
   "display_name": "Environment (conda_pytorch_p36)",
   "language": "python",
   "name": "conda_pytorch_p36"
  },
  "language_info": {
   "codemirror_mode": {
    "name": "ipython",
    "version": 3
   },
   "file_extension": ".py",
   "mimetype": "text/x-python",
   "name": "python",
   "nbconvert_exporter": "python",
   "pygments_lexer": "ipython3",
   "version": "3.6.10"
  }
 },
 "nbformat": 4,
 "nbformat_minor": 4
}
