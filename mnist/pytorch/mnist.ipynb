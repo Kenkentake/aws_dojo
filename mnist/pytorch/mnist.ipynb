{
 "cells": [
  {
   "cell_type": "code",
   "execution_count": 1,
   "metadata": {},
   "outputs": [],
   "source": [
    "import torch\n",
    "import torch.optim as optim\n",
    "import torchvision\n",
    "from torchvision import datasets, transforms\n",
    "from matplotlib import pyplot as plt\n",
    "\n",
    "# custom functions and classes\n",
    "from simple_mnist import Model, train, evaluate"
   ]
  },
  {
   "cell_type": "code",
   "execution_count": 3,
   "metadata": {},
   "outputs": [
    {
     "name": "stdout",
     "output_type": "stream",
     "text": [
      "Downloading http://yann.lecun.com/exdb/mnist/train-images-idx3-ubyte.gz to ./data/MNIST/raw/train-images-idx3-ubyte.gz\n"
     ]
    },
    {
     "data": {
      "application/vnd.jupyter.widget-view+json": {
       "model_id": "0c52cb6bb85c4c63bffb6ae744d213ea",
       "version_major": 2,
       "version_minor": 0
      },
      "text/plain": [
       "HBox(children=(FloatProgress(value=1.0, bar_style='info', max=1.0), HTML(value='')))"
      ]
     },
     "metadata": {},
     "output_type": "display_data"
    },
    {
     "name": "stdout",
     "output_type": "stream",
     "text": [
      "Extracting ./data/MNIST/raw/train-images-idx3-ubyte.gz to ./data/MNIST/raw\n",
      "Downloading http://yann.lecun.com/exdb/mnist/train-labels-idx1-ubyte.gz to ./data/MNIST/raw/train-labels-idx1-ubyte.gz\n"
     ]
    },
    {
     "data": {
      "application/vnd.jupyter.widget-view+json": {
       "model_id": "738007a5ac24424ba50c404084659a33",
       "version_major": 2,
       "version_minor": 0
      },
      "text/plain": [
       "HBox(children=(FloatProgress(value=1.0, bar_style='info', max=1.0), HTML(value='')))"
      ]
     },
     "metadata": {},
     "output_type": "display_data"
    },
    {
     "name": "stdout",
     "output_type": "stream",
     "text": [
      "Extracting ./data/MNIST/raw/train-labels-idx1-ubyte.gz to ./data/MNIST/raw\n",
      "Downloading http://yann.lecun.com/exdb/mnist/t10k-images-idx3-ubyte.gz to ./data/MNIST/raw/t10k-images-idx3-ubyte.gz\n"
     ]
    },
    {
     "data": {
      "application/vnd.jupyter.widget-view+json": {
       "model_id": "e70d6d22ac244460be28595697590562",
       "version_major": 2,
       "version_minor": 0
      },
      "text/plain": [
       "HBox(children=(FloatProgress(value=1.0, bar_style='info', max=1.0), HTML(value='')))"
      ]
     },
     "metadata": {},
     "output_type": "display_data"
    },
    {
     "name": "stdout",
     "output_type": "stream",
     "text": [
      "Extracting ./data/MNIST/raw/t10k-images-idx3-ubyte.gz to ./data/MNIST/raw\n",
      "Downloading http://yann.lecun.com/exdb/mnist/t10k-labels-idx1-ubyte.gz to ./data/MNIST/raw/t10k-labels-idx1-ubyte.gz\n",
      "\n",
      "\n"
     ]
    },
    {
     "data": {
      "application/vnd.jupyter.widget-view+json": {
       "model_id": "704f49f274e14686a54e3be0cb302f23",
       "version_major": 2,
       "version_minor": 0
      },
      "text/plain": [
       "HBox(children=(FloatProgress(value=1.0, bar_style='info', max=1.0), HTML(value='')))"
      ]
     },
     "metadata": {},
     "output_type": "display_data"
    },
    {
     "name": "stdout",
     "output_type": "stream",
     "text": [
      "Extracting ./data/MNIST/raw/t10k-labels-idx1-ubyte.gz to ./data/MNIST/raw\n",
      "Processing...\n",
      "Done!\n"
     ]
    }
   ],
   "source": [
    "transf = transforms.Compose([transforms.ToTensor(),\n",
    "                             transforms.Normalize((0.1307,), (0.3081,))])\n",
    "\n",
    "trainset = datasets.MNIST(root='./data', train=True, download=True, transform=transf)\n",
    "trainloader = torch.utils.data.DataLoader(trainset, batch_size=64, shuffle=True)\n",
    "\n",
    "testset = datasets.MNIST(root='./data', train=False, download=True, transform=transf)\n",
    "testloader = torch.utils.data.DataLoader(testset, batch_size=1000, shuffle=True)"
   ]
  },
  {
   "cell_type": "code",
   "execution_count": 5,
   "metadata": {},
   "outputs": [
    {
     "name": "stdout",
     "output_type": "stream",
     "text": [
      "Example data size: torch.Size([1000, 1, 28, 28])\n"
     ]
    },
    {
     "data": {
      "image/png": "[encoded data removed]",
      "text/plain": [
       "<Figure size 720x288 with 10 Axes>"
      ]
     },
     "metadata": {},
     "output_type": "display_data"
    }
   ],
   "source": [
    "examples = iter(testloader)\n",
    "example_data, example_targets = examples.next()\n",
    "\n",
    "print(\"Example data size:\", example_data.shape)\n",
    "fig = plt.figure(figsize=(10, 4))\n",
    "for i in range(10):\n",
    "    plt.subplot(2,5, i+1)\n",
    "    plt.tight_layout()\n",
    "    plt.imshow(example_data[i][0], cmap='gray', interpolation='none')\n",
    "    plt.title(\"Gound Truth: {}\".format(example_targets[i]))\n",
    "    plt.xticks([])\n",
    "    plt.yticks([])\n",
    "plt.show()"
   ]
  },
  {
   "cell_type": "code",
   "execution_count": 6,
   "metadata": {},
   "outputs": [
    {
     "data": {
      "text/plain": [
       "Model(\n",
       "  (conv1): Conv2d(1, 32, kernel_size=(3, 3), stride=(1, 1))\n",
       "  (conv2): Conv2d(32, 64, kernel_size=(3, 3), stride=(1, 1))\n",
       "  (dropout1): Dropout2d(p=0.25, inplace=False)\n",
       "  (dropout2): Dropout2d(p=0.5, inplace=False)\n",
       "  (fc1): Linear(in_features=9216, out_features=128, bias=True)\n",
       "  (fc2): Linear(in_features=128, out_features=10, bias=True)\n",
       ")"
      ]
     },
     "execution_count": 6,
     "metadata": {},
     "output_type": "execute_result"
    }
   ],
   "source": [
    "model = Model()\n",
    "model.to(\"cuda\")  # load to GPU"
   ]
  },
  {
   "cell_type": "code",
   "execution_count": 7,
   "metadata": {},
   "outputs": [],
   "source": [
    "optimizer = optim.SGD(model.parameters(), lr=0.01, momentum=0.5)"
   ]
  },
  {
   "cell_type": "code",
   "execution_count": 9,
   "metadata": {},
   "outputs": [
    {
     "name": "stdout",
     "output_type": "stream",
     "text": [
      "Train Epoch: 0 [0/60000 (0.0%)]\tLoss: 0.190834\n",
      "Train Epoch: 0 [6400/60000 (10.7%)]\tLoss: 0.254462\n",
      "Train Epoch: 0 [12800/60000 (21.3%)]\tLoss: 0.135773\n",
      "Train Epoch: 0 [19200/60000 (32.0%)]\tLoss: 0.279002\n",
      "Train Epoch: 0 [25600/60000 (42.6%)]\tLoss: 0.201151\n",
      "Train Epoch: 0 [32000/60000 (53.3%)]\tLoss: 0.218948\n",
      "Train Epoch: 0 [38400/60000 (64.0%)]\tLoss: 0.164689\n",
      "Train Epoch: 0 [44800/60000 (74.6%)]\tLoss: 0.145396\n",
      "Train Epoch: 0 [51200/60000 (85.3%)]\tLoss: 0.217480\n",
      "Train Epoch: 0 [57600/60000 (95.9%)]\tLoss: 0.188217\n",
      "\n",
      "Test set: Average loss: 0.0925, Accuracy: 97.3%\n",
      "\n",
      "Train Epoch: 1 [0/60000 (0.0%)]\tLoss: 0.085710\n",
      "Train Epoch: 1 [6400/60000 (10.7%)]\tLoss: 0.118354\n",
      "Train Epoch: 1 [12800/60000 (21.3%)]\tLoss: 0.239607\n",
      "Train Epoch: 1 [19200/60000 (32.0%)]\tLoss: 0.093513\n",
      "Train Epoch: 1 [25600/60000 (42.6%)]\tLoss: 0.234274\n",
      "Train Epoch: 1 [32000/60000 (53.3%)]\tLoss: 0.070593\n",
      "Train Epoch: 1 [38400/60000 (64.0%)]\tLoss: 0.186427\n",
      "Train Epoch: 1 [44800/60000 (74.6%)]\tLoss: 0.304114\n",
      "Train Epoch: 1 [51200/60000 (85.3%)]\tLoss: 0.265114\n",
      "Train Epoch: 1 [57600/60000 (95.9%)]\tLoss: 0.064646\n",
      "\n",
      "Test set: Average loss: 0.0629, Accuracy: 98.1%\n",
      "\n",
      "Train Epoch: 2 [0/60000 (0.0%)]\tLoss: 0.258589\n",
      "Train Epoch: 2 [6400/60000 (10.7%)]\tLoss: 0.024632\n",
      "Train Epoch: 2 [12800/60000 (21.3%)]\tLoss: 0.083960\n",
      "Train Epoch: 2 [19200/60000 (32.0%)]\tLoss: 0.287805\n",
      "Train Epoch: 2 [25600/60000 (42.6%)]\tLoss: 0.160359\n",
      "Train Epoch: 2 [32000/60000 (53.3%)]\tLoss: 0.103148\n",
      "Train Epoch: 2 [38400/60000 (64.0%)]\tLoss: 0.045363\n",
      "Train Epoch: 2 [44800/60000 (74.6%)]\tLoss: 0.115385\n",
      "Train Epoch: 2 [51200/60000 (85.3%)]\tLoss: 0.078134\n",
      "Train Epoch: 2 [57600/60000 (95.9%)]\tLoss: 0.014045\n",
      "\n",
      "Test set: Average loss: 0.0517, Accuracy: 98.4%\n",
      "\n",
      "Train Epoch: 3 [0/60000 (0.0%)]\tLoss: 0.049882\n",
      "Train Epoch: 3 [6400/60000 (10.7%)]\tLoss: 0.083915\n",
      "Train Epoch: 3 [12800/60000 (21.3%)]\tLoss: 0.061645\n",
      "Train Epoch: 3 [19200/60000 (32.0%)]\tLoss: 0.035984\n",
      "Train Epoch: 3 [25600/60000 (42.6%)]\tLoss: 0.111442\n",
      "Train Epoch: 3 [32000/60000 (53.3%)]\tLoss: 0.056332\n",
      "Train Epoch: 3 [38400/60000 (64.0%)]\tLoss: 0.088144\n",
      "Train Epoch: 3 [44800/60000 (74.6%)]\tLoss: 0.027771\n",
      "Train Epoch: 3 [51200/60000 (85.3%)]\tLoss: 0.263496\n",
      "Train Epoch: 3 [57600/60000 (95.9%)]\tLoss: 0.056220\n",
      "\n",
      "Test set: Average loss: 0.0434, Accuracy: 98.6%\n",
      "\n",
      "Train Epoch: 4 [0/60000 (0.0%)]\tLoss: 0.059612\n",
      "Train Epoch: 4 [6400/60000 (10.7%)]\tLoss: 0.099030\n",
      "Train Epoch: 4 [12800/60000 (21.3%)]\tLoss: 0.043503\n",
      "Train Epoch: 4 [19200/60000 (32.0%)]\tLoss: 0.054325\n",
      "Train Epoch: 4 [25600/60000 (42.6%)]\tLoss: 0.191281\n",
      "Train Epoch: 4 [32000/60000 (53.3%)]\tLoss: 0.206128\n",
      "Train Epoch: 4 [38400/60000 (64.0%)]\tLoss: 0.162155\n",
      "Train Epoch: 4 [44800/60000 (74.6%)]\tLoss: 0.007752\n",
      "Train Epoch: 4 [51200/60000 (85.3%)]\tLoss: 0.037412\n",
      "Train Epoch: 4 [57600/60000 (95.9%)]\tLoss: 0.081828\n",
      "\n",
      "Test set: Average loss: 0.0378, Accuracy: 98.8%\n",
      "\n"
     ]
    },
    {
     "data": {
      "image/png": "[encoded data removed]",
      "text/plain": [
       "<Figure size 504x360 with 1 Axes>"
      ]
     },
     "metadata": {
      "needs_background": "light"
     },
     "output_type": "display_data"
    }
   ],
   "source": [
    "train_losses = []\n",
    "for epoch in range(5):\n",
    "    losses = train(model, trainloader, optimizer, epoch)\n",
    "    train_losses = train_losses + losses\n",
    "    test_loss, test_accuracy = evaluate(model, testloader)\n",
    "    print(f\"\\nTest set: Average loss: {test_loss:.4f}, Accuracy: {test_accuracy:.1f}%\\n\")\n",
    "\n",
    "plt.figure(figsize=(7, 5))\n",
    "plt.plot(train_losses)\n",
    "plt.xlabel(\"Iterations\")\n",
    "plt.ylabel(\"Train loss\")\n",
    "plt.show()"
   ]
  },
  {
   "cell_type": "code",
   "execution_count": 10,
   "metadata": {},
   "outputs": [
    {
     "data": {
      "image/png": "[encoded data removed]",
      "text/plain": [
       "<Figure size 720x288 with 10 Axes>"
      ]
     },
     "metadata": {},
     "output_type": "display_data"
    }
   ],
   "source": [
    "model.eval()\n",
    "\n",
    "with torch.no_grad():\n",
    "    output = model(example_data.to(\"cuda\"))\n",
    "\n",
    "fig = plt.figure(figsize=(10, 4))\n",
    "for i in range(10):\n",
    "    plt.subplot(2, 5, i+1)\n",
    "    plt.tight_layout()\n",
    "    plt.imshow(example_data[i][0], cmap='gray', interpolation='none')\n",
    "    plt.title(\"Prediction: {}\".format(output.data.max(1, keepdim=True)[1][i].item()))\n",
    "    plt.xticks([])\n",
    "    plt.yticks([])\n",
    "plt.show()"
   ]
  },
  {
   "cell_type": "code",
   "execution_count": 11,
   "metadata": {},
   "outputs": [],
   "source": [
    "torch.save(model.state_dict(), \"mnist_cnn.pt\")"
   ]
  },
  {
   "cell_type": "code",
   "execution_count": null,
   "metadata": {},
   "outputs": [],
   "source": []
  }
 ],
 "metadata": {
  "kernelspec": {
   "display_name": "Environment (conda_pytorch_p36)",
   "language": "python",
   "name": "conda_pytorch_p36"
  },
  "language_info": {
   "codemirror_mode": {
    "name": "ipython",
    "version": 3
   },
   "file_extension": ".py",
   "mimetype": "text/x-python",
   "name": "python",
   "nbconvert_exporter": "python",
   "pygments_lexer": "ipython3",
   "version": "3.6.10"
  }
 },
 "nbformat": 4,
 "nbformat_minor": 4
}
