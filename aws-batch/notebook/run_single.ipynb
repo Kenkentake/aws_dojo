{
 "cells": [
  {
   "cell_type": "code",
   "execution_count": 1,
   "id": "5ca899c9",
   "metadata": {},
   "outputs": [],
   "source": [
    "import boto3\n",
    "import argparse"
   ]
  },
  {
   "cell_type": "code",
   "execution_count": 2,
   "id": "54defe95",
   "metadata": {},
   "outputs": [],
   "source": [
    "# # Optional: Set AWS credentials\n",
    "# # To use this cell, comment out all lines\n",
    "\n",
    "# # Alternatively, if your AWS credential is defined in ~/.aws/credentials\n",
    "# # you can use `profile_name` parameter in submit_job() function\n",
    "\n",
    "# import os, getpass\n",
    "# os.environ[\"AWS_ACCESS_KEY_ID\"] = getpass.getpass(\"Enter aws access key ID \")\n",
    "# os.environ[\"AWS_SECRET_ACCESS_KEY\"] = getpass.getpass(\"Enter aws secret access key \")\n",
    "# os.environ[\"AWS_DEFAULT_REGION\"] = input(\"Enter aws default region \")"
   ]
  },
  {
   "cell_type": "code",
   "execution_count": 3,
   "id": "a24c0e2b",
   "metadata": {},
   "outputs": [],
   "source": [
    "def submit_job(lr:float, momentum:float, epochs:int, profile_name=None):\n",
    "    \"\"\"\n",
    "    Submit a job to AWS Batch queue.\n",
    "    Parameters\n",
    "    ----------\n",
    "    lr: float\n",
    "        Learning rate\n",
    "    momentum: float\n",
    "    epochs: float\n",
    "        Maximum number of training epochs\n",
    "    profile_name: str\n",
    "        The profile name used to access AWS.\n",
    "        The profile is defined in `~/.aws/credentials`.\n",
    "    \"\"\"\n",
    "    if profile_name is None:\n",
    "        session = boto3.Session()\n",
    "    else:\n",
    "        session = boto3.Session(profile_name=profile_name)\n",
    "    client = session.client(\"batch\")\n",
    "    \n",
    "    title = \"lr\" + str(lr).replace(\".\", \"\") + \"_m\" + str(momentum).replace(\".\", \"\")\n",
    "    resp = client.submit_job(\n",
    "        jobName=title,\n",
    "        jobQueue=\"SimpleBatchjob-queue\",\n",
    "        jobDefinition=\"SimpleBatchjob-definition\",\n",
    "        containerOverrides={\n",
    "            \"command\": [\"--lr\", str(lr),\n",
    "                        \"--momentum\", str(momentum),\n",
    "                        \"--epochs\", str(epochs),\n",
    "                        \"--uploadS3\", \"true\"]\n",
    "        }\n",
    "    )\n",
    "    print(\"Job submitted!\")\n",
    "    print(\"job name\", resp[\"jobName\"], \"job ID\", resp[\"jobId\"])"
   ]
  },
  {
   "cell_type": "markdown",
   "id": "4c1e22f1",
   "metadata": {},
   "source": [
    "### Let's submit a single job"
   ]
  },
  {
   "cell_type": "code",
   "execution_count": 4,
   "id": "f9acb0b4",
   "metadata": {},
   "outputs": [
    {
     "name": "stdout",
     "output_type": "stream",
     "text": [
      "Job submitted!\n",
      "job name lr001_m01 job ID f95dadef-f218-4067-aa65-b62054c4b5be\n"
     ]
    }
   ],
   "source": [
    "submit_job(0.01, 0.1, 100)"
   ]
  },
  {
   "cell_type": "markdown",
   "id": "59b0fc50",
   "metadata": {},
   "source": [
    "### Let's download the learning result and make plots"
   ]
  },
  {
   "cell_type": "code",
   "execution_count": 5,
   "id": "b0cfa247",
   "metadata": {},
   "outputs": [],
   "source": [
    "import pandas as pd\n",
    "import io\n",
    "from matplotlib import pyplot as plt"
   ]
  },
  {
   "cell_type": "code",
   "execution_count": 6,
   "id": "10928b35",
   "metadata": {},
   "outputs": [],
   "source": [
    "def read_table_from_s3(bucket_name, key, profile_name=None):\n",
    "    if profile_name is None:\n",
    "        session = boto3.Session()\n",
    "    else:\n",
    "        session = boto3.Session(profile_name=profile_name)\n",
    "    s3 = session.resource(\"s3\")\n",
    "    bucket = s3.Bucket(bucket_name)\n",
    "    \n",
    "    obj = bucket.Object(key).get().get(\"Body\")\n",
    "    df = pd.read_csv(obj)\n",
    "    \n",
    "    return df"
   ]
  },
  {
   "cell_type": "code",
   "execution_count": 7,
   "id": "1b41bf96",
   "metadata": {},
   "outputs": [],
   "source": [
    "#### Remember to replace bucket name with your own name! ####\n",
    "bucket_name = \"simplebatch-bucket43879c71-14xl0chtf60cm\"\n",
    "\n",
    "df = read_table_from_s3(\n",
    "    bucket_name,\n",
    "    \"metrics_lr0.0100_m0.1000.csv\"\n",
    ")"
   ]
  },
  {
   "cell_type": "code",
   "execution_count": 8,
   "id": "6749b933",
   "metadata": {
    "scrolled": false
   },
   "outputs": [
    {
     "data": {
      "text/html": [
       "<div>\n",
       "<style scoped>\n",
       "    .dataframe tbody tr th:only-of-type {\n",
       "        vertical-align: middle;\n",
       "    }\n",
       "\n",
       "    .dataframe tbody tr th {\n",
       "        vertical-align: top;\n",
       "    }\n",
       "\n",
       "    .dataframe thead th {\n",
       "        text-align: right;\n",
       "    }\n",
       "</style>\n",
       "<table border=\"1\" class=\"dataframe\">\n",
       "  <thead>\n",
       "    <tr style=\"text-align: right;\">\n",
       "      <th></th>\n",
       "      <th>train_loss</th>\n",
       "      <th>val_loss</th>\n",
       "      <th>val_accuracy</th>\n",
       "    </tr>\n",
       "  </thead>\n",
       "  <tbody>\n",
       "    <tr>\n",
       "      <th>0</th>\n",
       "      <td>0.585213</td>\n",
       "      <td>0.234356</td>\n",
       "      <td>93.266667</td>\n",
       "    </tr>\n",
       "    <tr>\n",
       "      <th>1</th>\n",
       "      <td>0.299880</td>\n",
       "      <td>0.170949</td>\n",
       "      <td>94.991667</td>\n",
       "    </tr>\n",
       "    <tr>\n",
       "      <th>2</th>\n",
       "      <td>0.240068</td>\n",
       "      <td>0.141992</td>\n",
       "      <td>95.716667</td>\n",
       "    </tr>\n",
       "    <tr>\n",
       "      <th>3</th>\n",
       "      <td>0.203818</td>\n",
       "      <td>0.117314</td>\n",
       "      <td>96.516667</td>\n",
       "    </tr>\n",
       "    <tr>\n",
       "      <th>4</th>\n",
       "      <td>0.172304</td>\n",
       "      <td>0.101399</td>\n",
       "      <td>97.108333</td>\n",
       "    </tr>\n",
       "    <tr>\n",
       "      <th>...</th>\n",
       "      <td>...</td>\n",
       "      <td>...</td>\n",
       "      <td>...</td>\n",
       "    </tr>\n",
       "    <tr>\n",
       "      <th>95</th>\n",
       "      <td>0.011101</td>\n",
       "      <td>0.044789</td>\n",
       "      <td>99.008333</td>\n",
       "    </tr>\n",
       "    <tr>\n",
       "      <th>96</th>\n",
       "      <td>0.010820</td>\n",
       "      <td>0.046500</td>\n",
       "      <td>99.050000</td>\n",
       "    </tr>\n",
       "    <tr>\n",
       "      <th>97</th>\n",
       "      <td>0.010897</td>\n",
       "      <td>0.045035</td>\n",
       "      <td>99.058333</td>\n",
       "    </tr>\n",
       "    <tr>\n",
       "      <th>98</th>\n",
       "      <td>0.010739</td>\n",
       "      <td>0.041896</td>\n",
       "      <td>99.091667</td>\n",
       "    </tr>\n",
       "    <tr>\n",
       "      <th>99</th>\n",
       "      <td>0.010495</td>\n",
       "      <td>0.042609</td>\n",
       "      <td>99.108333</td>\n",
       "    </tr>\n",
       "  </tbody>\n",
       "</table>\n",
       "<p>100 rows × 3 columns</p>\n",
       "</div>"
      ],
      "text/plain": [
       "    train_loss  val_loss  val_accuracy\n",
       "0     0.585213  0.234356     93.266667\n",
       "1     0.299880  0.170949     94.991667\n",
       "2     0.240068  0.141992     95.716667\n",
       "3     0.203818  0.117314     96.516667\n",
       "4     0.172304  0.101399     97.108333\n",
       "..         ...       ...           ...\n",
       "95    0.011101  0.044789     99.008333\n",
       "96    0.010820  0.046500     99.050000\n",
       "97    0.010897  0.045035     99.058333\n",
       "98    0.010739  0.041896     99.091667\n",
       "99    0.010495  0.042609     99.108333\n",
       "\n",
       "[100 rows x 3 columns]"
      ]
     },
     "execution_count": 8,
     "metadata": {},
     "output_type": "execute_result"
    }
   ],
   "source": [
    "df"
   ]
  },
  {
   "cell_type": "code",
   "execution_count": 9,
   "id": "d60786ed",
   "metadata": {},
   "outputs": [
    {
     "name": "stdout",
     "output_type": "stream",
     "text": [
      "Best loss: 0.0381237548295563\n",
      "Best loss epoch: 48\n",
      "Best accuracy: 99.10833333333332\n",
      "Best accuracy epoch: 99\n"
     ]
    },
    {
     "data": {
      "image/png": "[encoded data removed]",
      "text/plain": [
       "<Figure size 900x400 with 2 Axes>"
      ]
     },
     "metadata": {},
     "output_type": "display_data"
    }
   ],
   "source": [
    "fig, (ax1, ax2) = plt.subplots(1,2, figsize=(9,4))\n",
    "x = [i for i in range(df.shape[0])]\n",
    "ax1.plot(x, df[\"train_loss\"], label=\"Train\")\n",
    "ax1.plot(x, df[\"val_loss\"], label=\"Val\")\n",
    "ax2.plot(x, df[\"val_accuracy\"])\n",
    "\n",
    "ax1.set_xlabel(\"Epochs\")\n",
    "ax1.set_ylabel(\"Loss\")\n",
    "ax1.legend()\n",
    "\n",
    "ax2.set_xlabel(\"Epochs\")\n",
    "ax2.set_ylabel(\"Accuracy\")\n",
    "\n",
    "print(\"Best loss:\", df[\"val_loss\"].min())\n",
    "print(\"Best loss epoch:\", df[\"val_loss\"].argmin())\n",
    "print(\"Best accuracy:\", df[\"val_accuracy\"].max())\n",
    "print(\"Best accuracy epoch:\", df[\"val_accuracy\"].argmax())"
   ]
  },
  {
   "cell_type": "code",
   "execution_count": null,
   "id": "d0d3c565",
   "metadata": {},
   "outputs": [],
   "source": []
  }
 ],
 "metadata": {
  "kernelspec": {
   "display_name": "Python 3 (ipykernel)",
   "language": "python",
   "name": "python3"
  },
  "language_info": {
   "codemirror_mode": {
    "name": "ipython",
    "version": 3
   },
   "file_extension": ".py",
   "mimetype": "text/x-python",
   "name": "python",
   "nbconvert_exporter": "python",
   "pygments_lexer": "ipython3",
   "version": "3.10.0"
  }
 },
 "nbformat": 4,
 "nbformat_minor": 5
}
